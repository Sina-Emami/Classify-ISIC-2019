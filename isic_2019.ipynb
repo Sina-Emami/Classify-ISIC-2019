{
  "nbformat": 4,
  "nbformat_minor": 0,
  "metadata": {
    "kernelspec": {
      "name": "python3",
      "display_name": "Python 3",
      "language": "python"
    },
    "colab": {
      "name": "Copy of isic-2019.ipynb",
      "provenance": [],
      "collapsed_sections": []
    },
    "accelerator": "GPU",
    "gpuClass": "standard"
  },
  "cells": [
    {
      "cell_type": "markdown",
      "metadata": {
        "id": "pyU8nn_3vd63"
      },
      "source": [
        "# **Download the ISIC 2019data:**"
      ]
    },
    {
      "cell_type": "markdown",
      "metadata": {
        "id": "kFZZJPMfvjYO"
      },
      "source": [
        "train set data:"
      ]
    },
    {
      "cell_type": "code",
      "metadata": {
        "id": "erMf_lbFvZ5l"
      },
      "source": [
        "! wget https://s3.amazonaws.com/isic-challenge-data/2019/ISIC_2019_Training_Input.zip"
      ],
      "execution_count": null,
      "outputs": []
    },
    {
      "cell_type": "markdown",
      "metadata": {
        "id": "1U06E05rvl9z"
      },
      "source": [
        "train set Metadata:"
      ]
    },
    {
      "cell_type": "code",
      "metadata": {
        "id": "H43oJYjsvp8-"
      },
      "source": [
        "! wget https://s3.amazonaws.com/isic-challenge-data/2019/ISIC_2019_Training_Metadata.csv"
      ],
      "execution_count": null,
      "outputs": []
    },
    {
      "cell_type": "markdown",
      "metadata": {
        "id": "OKA_euY0vmTj"
      },
      "source": [
        "train set GroundTruth:"
      ]
    },
    {
      "cell_type": "code",
      "metadata": {
        "id": "NY31vQ-RvzDe"
      },
      "source": [
        "! wget https://s3.amazonaws.com/isic-challenge-data/2019/ISIC_2019_Training_GroundTruth.csv"
      ],
      "execution_count": null,
      "outputs": []
    },
    {
      "cell_type": "markdown",
      "metadata": {
        "id": "0hvbo9bZvmkK"
      },
      "source": [
        "Unziping the training input file:"
      ]
    },
    {
      "cell_type": "code",
      "metadata": {
        "id": "dBp-Pj3uv7R-"
      },
      "source": [
        "! unzip /content/ISIC_2019_Training_Input.zip"
      ],
      "execution_count": null,
      "outputs": []
    },
    {
      "cell_type": "markdown",
      "metadata": {
        "id": "VLNKRvhex35x"
      },
      "source": [
        "images are put in another folder so using ImageDataGenerator be possible."
      ]
    },
    {
      "cell_type": "code",
      "metadata": {
        "id": "mx7MQ9gcwmXA"
      },
      "source": [
        "!mkdir training_image_set"
      ],
      "execution_count": null,
      "outputs": []
    },
    {
      "cell_type": "code",
      "metadata": {
        "id": "HHypcIpMeqdQ"
      },
      "source": [
        "!mv  \"/content/ISIC_2019_Training_Input\" \"/content/training_image_set\""
      ],
      "execution_count": null,
      "outputs": []
    },
    {
      "cell_type": "markdown",
      "source": [
        "# **Import libraries**"
      ],
      "metadata": {
        "id": "Ju4Ssy6_Sir1"
      }
    },
    {
      "cell_type": "code",
      "metadata": {
        "trusted": true,
        "id": "2Up8zCrLZ673"
      },
      "source": [
        "import numpy as np\n",
        "import pandas as pd\n",
        "import os\n",
        "import tensorflow as tf\n",
        "from tensorflow import keras\n",
        "from tensorflow.keras.applications.resnet50 import ResNet50, preprocess_input\n",
        "from tensorflow.keras.regularizers import Regularizer, L1L2, L1, L2, serialize\n",
        "from tensorflow.keras.constraints import MaxNorm\n",
        "from tensorflow.keras.preprocessing.image import ImageDataGenerator, load_img, img_to_array\n",
        "from tensorflow.keras.layers import Input, Flatten, Dense, Dropout, GlobalAveragePooling2D, GlobalMaxPooling2D, BatchNormalization, Activation\n",
        "from tensorflow.keras.optimizers import Adam, RMSprop, SGD\n",
        "from tensorflow.keras import backend as K\n",
        "from tensorflow.keras.callbacks import ModelCheckpoint\n",
        "from tensorflow.keras.models import Sequential\n",
        "from tensorflow.keras.callbacks import EarlyStopping"
      ],
      "execution_count": null,
      "outputs": []
    },
    {
      "cell_type": "code",
      "metadata": {
        "_uuid": "d629ff2d2480ee46fbb7e2d37f6b5fab8052498a",
        "_cell_guid": "79c7e3d0-c299-4dcb-8224-4455121ee9b0",
        "trusted": true,
        "id": "UE-xv9qpvIiH"
      },
      "source": [
        "images_path = '/content/training_image_set/ISIC_2019_Training_Input'\n",
        "Training_GroundTruth_path = '/content/ISIC_2019_Training_GroundTruth.csv'"
      ],
      "execution_count": null,
      "outputs": []
    },
    {
      "cell_type": "code",
      "metadata": {
        "trusted": true,
        "id": "EOUDyNEyZ68I",
        "outputId": "1b24be2f-3e00-4333-f7f7-8e4b37a6afb3",
        "colab": {
          "base_uri": "https://localhost:8080/"
        }
      },
      "source": [
        "print(len(os.listdir(images_path)))"
      ],
      "execution_count": null,
      "outputs": [
        {
          "output_type": "stream",
          "name": "stdout",
          "text": [
            "25333\n"
          ]
        }
      ]
    },
    {
      "cell_type": "code",
      "metadata": {
        "trusted": true,
        "id": "t0QQ2uTXZ68Y",
        "colab": {
          "base_uri": "https://localhost:8080/",
          "height": 206
        },
        "outputId": "a9f1b210-9bc6-4112-ba17-1a11563e65f3"
      },
      "source": [
        "#train_gt = Training Ground Truth\n",
        "train_gt_df = pd.read_csv(Training_GroundTruth_path)\n",
        "\n",
        "train_gt_df.head()"
      ],
      "execution_count": null,
      "outputs": [
        {
          "output_type": "execute_result",
          "data": {
            "text/plain": [
              "          image  MEL   NV  BCC   AK  BKL   DF  VASC  SCC  UNK\n",
              "0  ISIC_0000000  0.0  1.0  0.0  0.0  0.0  0.0   0.0  0.0  0.0\n",
              "1  ISIC_0000001  0.0  1.0  0.0  0.0  0.0  0.0   0.0  0.0  0.0\n",
              "2  ISIC_0000002  1.0  0.0  0.0  0.0  0.0  0.0   0.0  0.0  0.0\n",
              "3  ISIC_0000003  0.0  1.0  0.0  0.0  0.0  0.0   0.0  0.0  0.0\n",
              "4  ISIC_0000004  1.0  0.0  0.0  0.0  0.0  0.0   0.0  0.0  0.0"
            ],
            "text/html": [
              "\n",
              "  <div id=\"df-184a19a4-d56f-48a5-979b-5bdb09a9d876\">\n",
              "    <div class=\"colab-df-container\">\n",
              "      <div>\n",
              "<style scoped>\n",
              "    .dataframe tbody tr th:only-of-type {\n",
              "        vertical-align: middle;\n",
              "    }\n",
              "\n",
              "    .dataframe tbody tr th {\n",
              "        vertical-align: top;\n",
              "    }\n",
              "\n",
              "    .dataframe thead th {\n",
              "        text-align: right;\n",
              "    }\n",
              "</style>\n",
              "<table border=\"1\" class=\"dataframe\">\n",
              "  <thead>\n",
              "    <tr style=\"text-align: right;\">\n",
              "      <th></th>\n",
              "      <th>image</th>\n",
              "      <th>MEL</th>\n",
              "      <th>NV</th>\n",
              "      <th>BCC</th>\n",
              "      <th>AK</th>\n",
              "      <th>BKL</th>\n",
              "      <th>DF</th>\n",
              "      <th>VASC</th>\n",
              "      <th>SCC</th>\n",
              "      <th>UNK</th>\n",
              "    </tr>\n",
              "  </thead>\n",
              "  <tbody>\n",
              "    <tr>\n",
              "      <th>0</th>\n",
              "      <td>ISIC_0000000</td>\n",
              "      <td>0.0</td>\n",
              "      <td>1.0</td>\n",
              "      <td>0.0</td>\n",
              "      <td>0.0</td>\n",
              "      <td>0.0</td>\n",
              "      <td>0.0</td>\n",
              "      <td>0.0</td>\n",
              "      <td>0.0</td>\n",
              "      <td>0.0</td>\n",
              "    </tr>\n",
              "    <tr>\n",
              "      <th>1</th>\n",
              "      <td>ISIC_0000001</td>\n",
              "      <td>0.0</td>\n",
              "      <td>1.0</td>\n",
              "      <td>0.0</td>\n",
              "      <td>0.0</td>\n",
              "      <td>0.0</td>\n",
              "      <td>0.0</td>\n",
              "      <td>0.0</td>\n",
              "      <td>0.0</td>\n",
              "      <td>0.0</td>\n",
              "    </tr>\n",
              "    <tr>\n",
              "      <th>2</th>\n",
              "      <td>ISIC_0000002</td>\n",
              "      <td>1.0</td>\n",
              "      <td>0.0</td>\n",
              "      <td>0.0</td>\n",
              "      <td>0.0</td>\n",
              "      <td>0.0</td>\n",
              "      <td>0.0</td>\n",
              "      <td>0.0</td>\n",
              "      <td>0.0</td>\n",
              "      <td>0.0</td>\n",
              "    </tr>\n",
              "    <tr>\n",
              "      <th>3</th>\n",
              "      <td>ISIC_0000003</td>\n",
              "      <td>0.0</td>\n",
              "      <td>1.0</td>\n",
              "      <td>0.0</td>\n",
              "      <td>0.0</td>\n",
              "      <td>0.0</td>\n",
              "      <td>0.0</td>\n",
              "      <td>0.0</td>\n",
              "      <td>0.0</td>\n",
              "      <td>0.0</td>\n",
              "    </tr>\n",
              "    <tr>\n",
              "      <th>4</th>\n",
              "      <td>ISIC_0000004</td>\n",
              "      <td>1.0</td>\n",
              "      <td>0.0</td>\n",
              "      <td>0.0</td>\n",
              "      <td>0.0</td>\n",
              "      <td>0.0</td>\n",
              "      <td>0.0</td>\n",
              "      <td>0.0</td>\n",
              "      <td>0.0</td>\n",
              "      <td>0.0</td>\n",
              "    </tr>\n",
              "  </tbody>\n",
              "</table>\n",
              "</div>\n",
              "      <button class=\"colab-df-convert\" onclick=\"convertToInteractive('df-184a19a4-d56f-48a5-979b-5bdb09a9d876')\"\n",
              "              title=\"Convert this dataframe to an interactive table.\"\n",
              "              style=\"display:none;\">\n",
              "        \n",
              "  <svg xmlns=\"http://www.w3.org/2000/svg\" height=\"24px\"viewBox=\"0 0 24 24\"\n",
              "       width=\"24px\">\n",
              "    <path d=\"M0 0h24v24H0V0z\" fill=\"none\"/>\n",
              "    <path d=\"M18.56 5.44l.94 2.06.94-2.06 2.06-.94-2.06-.94-.94-2.06-.94 2.06-2.06.94zm-11 1L8.5 8.5l.94-2.06 2.06-.94-2.06-.94L8.5 2.5l-.94 2.06-2.06.94zm10 10l.94 2.06.94-2.06 2.06-.94-2.06-.94-.94-2.06-.94 2.06-2.06.94z\"/><path d=\"M17.41 7.96l-1.37-1.37c-.4-.4-.92-.59-1.43-.59-.52 0-1.04.2-1.43.59L10.3 9.45l-7.72 7.72c-.78.78-.78 2.05 0 2.83L4 21.41c.39.39.9.59 1.41.59.51 0 1.02-.2 1.41-.59l7.78-7.78 2.81-2.81c.8-.78.8-2.07 0-2.86zM5.41 20L4 18.59l7.72-7.72 1.47 1.35L5.41 20z\"/>\n",
              "  </svg>\n",
              "      </button>\n",
              "      \n",
              "  <style>\n",
              "    .colab-df-container {\n",
              "      display:flex;\n",
              "      flex-wrap:wrap;\n",
              "      gap: 12px;\n",
              "    }\n",
              "\n",
              "    .colab-df-convert {\n",
              "      background-color: #E8F0FE;\n",
              "      border: none;\n",
              "      border-radius: 50%;\n",
              "      cursor: pointer;\n",
              "      display: none;\n",
              "      fill: #1967D2;\n",
              "      height: 32px;\n",
              "      padding: 0 0 0 0;\n",
              "      width: 32px;\n",
              "    }\n",
              "\n",
              "    .colab-df-convert:hover {\n",
              "      background-color: #E2EBFA;\n",
              "      box-shadow: 0px 1px 2px rgba(60, 64, 67, 0.3), 0px 1px 3px 1px rgba(60, 64, 67, 0.15);\n",
              "      fill: #174EA6;\n",
              "    }\n",
              "\n",
              "    [theme=dark] .colab-df-convert {\n",
              "      background-color: #3B4455;\n",
              "      fill: #D2E3FC;\n",
              "    }\n",
              "\n",
              "    [theme=dark] .colab-df-convert:hover {\n",
              "      background-color: #434B5C;\n",
              "      box-shadow: 0px 1px 3px 1px rgba(0, 0, 0, 0.15);\n",
              "      filter: drop-shadow(0px 1px 2px rgba(0, 0, 0, 0.3));\n",
              "      fill: #FFFFFF;\n",
              "    }\n",
              "  </style>\n",
              "\n",
              "      <script>\n",
              "        const buttonEl =\n",
              "          document.querySelector('#df-184a19a4-d56f-48a5-979b-5bdb09a9d876 button.colab-df-convert');\n",
              "        buttonEl.style.display =\n",
              "          google.colab.kernel.accessAllowed ? 'block' : 'none';\n",
              "\n",
              "        async function convertToInteractive(key) {\n",
              "          const element = document.querySelector('#df-184a19a4-d56f-48a5-979b-5bdb09a9d876');\n",
              "          const dataTable =\n",
              "            await google.colab.kernel.invokeFunction('convertToInteractive',\n",
              "                                                     [key], {});\n",
              "          if (!dataTable) return;\n",
              "\n",
              "          const docLinkHtml = 'Like what you see? Visit the ' +\n",
              "            '<a target=\"_blank\" href=https://colab.research.google.com/notebooks/data_table.ipynb>data table notebook</a>'\n",
              "            + ' to learn more about interactive tables.';\n",
              "          element.innerHTML = '';\n",
              "          dataTable['output_type'] = 'display_data';\n",
              "          await google.colab.output.renderOutput(dataTable, element);\n",
              "          const docLink = document.createElement('div');\n",
              "          docLink.innerHTML = docLinkHtml;\n",
              "          element.appendChild(docLink);\n",
              "        }\n",
              "      </script>\n",
              "    </div>\n",
              "  </div>\n",
              "  "
            ]
          },
          "metadata": {},
          "execution_count": 10
        }
      ]
    },
    {
      "cell_type": "code",
      "metadata": {
        "trusted": true,
        "id": "3hpq6tSYZ68h"
      },
      "source": [
        "train_gt_df[train_gt_df['UNK']==1]"
      ],
      "execution_count": null,
      "outputs": []
    },
    {
      "cell_type": "code",
      "metadata": {
        "trusted": true,
        "id": "zR6_R1U0Z68q"
      },
      "source": [
        "for index, img in enumerate(train_gt_df.image):\n",
        "    img = img+'.jpg'\n",
        "    train_gt_df.image[index]=img\n",
        "\n",
        "\n",
        "#there is no data for 'UNK', so i am not gonna count it in my process\n",
        "train_gt_df.drop(['UNK'], axis=1, inplace=True)"
      ],
      "execution_count": null,
      "outputs": []
    },
    {
      "cell_type": "code",
      "source": [
        "train_gt_df.head(5)"
      ],
      "metadata": {
        "colab": {
          "base_uri": "https://localhost:8080/",
          "height": 206
        },
        "id": "C7YH-I2ZUha9",
        "outputId": "a945bdde-9ab6-438c-c353-623e87411bb3"
      },
      "execution_count": null,
      "outputs": [
        {
          "output_type": "execute_result",
          "data": {
            "text/plain": [
              "              image  MEL   NV  BCC   AK  BKL   DF  VASC  SCC\n",
              "0  ISIC_0000000.jpg  0.0  1.0  0.0  0.0  0.0  0.0   0.0  0.0\n",
              "1  ISIC_0000001.jpg  0.0  1.0  0.0  0.0  0.0  0.0   0.0  0.0\n",
              "2  ISIC_0000002.jpg  1.0  0.0  0.0  0.0  0.0  0.0   0.0  0.0\n",
              "3  ISIC_0000003.jpg  0.0  1.0  0.0  0.0  0.0  0.0   0.0  0.0\n",
              "4  ISIC_0000004.jpg  1.0  0.0  0.0  0.0  0.0  0.0   0.0  0.0"
            ],
            "text/html": [
              "\n",
              "  <div id=\"df-3fc521f0-5b93-4dfb-8d3f-6262698d2bbc\">\n",
              "    <div class=\"colab-df-container\">\n",
              "      <div>\n",
              "<style scoped>\n",
              "    .dataframe tbody tr th:only-of-type {\n",
              "        vertical-align: middle;\n",
              "    }\n",
              "\n",
              "    .dataframe tbody tr th {\n",
              "        vertical-align: top;\n",
              "    }\n",
              "\n",
              "    .dataframe thead th {\n",
              "        text-align: right;\n",
              "    }\n",
              "</style>\n",
              "<table border=\"1\" class=\"dataframe\">\n",
              "  <thead>\n",
              "    <tr style=\"text-align: right;\">\n",
              "      <th></th>\n",
              "      <th>image</th>\n",
              "      <th>MEL</th>\n",
              "      <th>NV</th>\n",
              "      <th>BCC</th>\n",
              "      <th>AK</th>\n",
              "      <th>BKL</th>\n",
              "      <th>DF</th>\n",
              "      <th>VASC</th>\n",
              "      <th>SCC</th>\n",
              "    </tr>\n",
              "  </thead>\n",
              "  <tbody>\n",
              "    <tr>\n",
              "      <th>0</th>\n",
              "      <td>ISIC_0000000.jpg</td>\n",
              "      <td>0.0</td>\n",
              "      <td>1.0</td>\n",
              "      <td>0.0</td>\n",
              "      <td>0.0</td>\n",
              "      <td>0.0</td>\n",
              "      <td>0.0</td>\n",
              "      <td>0.0</td>\n",
              "      <td>0.0</td>\n",
              "    </tr>\n",
              "    <tr>\n",
              "      <th>1</th>\n",
              "      <td>ISIC_0000001.jpg</td>\n",
              "      <td>0.0</td>\n",
              "      <td>1.0</td>\n",
              "      <td>0.0</td>\n",
              "      <td>0.0</td>\n",
              "      <td>0.0</td>\n",
              "      <td>0.0</td>\n",
              "      <td>0.0</td>\n",
              "      <td>0.0</td>\n",
              "    </tr>\n",
              "    <tr>\n",
              "      <th>2</th>\n",
              "      <td>ISIC_0000002.jpg</td>\n",
              "      <td>1.0</td>\n",
              "      <td>0.0</td>\n",
              "      <td>0.0</td>\n",
              "      <td>0.0</td>\n",
              "      <td>0.0</td>\n",
              "      <td>0.0</td>\n",
              "      <td>0.0</td>\n",
              "      <td>0.0</td>\n",
              "    </tr>\n",
              "    <tr>\n",
              "      <th>3</th>\n",
              "      <td>ISIC_0000003.jpg</td>\n",
              "      <td>0.0</td>\n",
              "      <td>1.0</td>\n",
              "      <td>0.0</td>\n",
              "      <td>0.0</td>\n",
              "      <td>0.0</td>\n",
              "      <td>0.0</td>\n",
              "      <td>0.0</td>\n",
              "      <td>0.0</td>\n",
              "    </tr>\n",
              "    <tr>\n",
              "      <th>4</th>\n",
              "      <td>ISIC_0000004.jpg</td>\n",
              "      <td>1.0</td>\n",
              "      <td>0.0</td>\n",
              "      <td>0.0</td>\n",
              "      <td>0.0</td>\n",
              "      <td>0.0</td>\n",
              "      <td>0.0</td>\n",
              "      <td>0.0</td>\n",
              "      <td>0.0</td>\n",
              "    </tr>\n",
              "  </tbody>\n",
              "</table>\n",
              "</div>\n",
              "      <button class=\"colab-df-convert\" onclick=\"convertToInteractive('df-3fc521f0-5b93-4dfb-8d3f-6262698d2bbc')\"\n",
              "              title=\"Convert this dataframe to an interactive table.\"\n",
              "              style=\"display:none;\">\n",
              "        \n",
              "  <svg xmlns=\"http://www.w3.org/2000/svg\" height=\"24px\"viewBox=\"0 0 24 24\"\n",
              "       width=\"24px\">\n",
              "    <path d=\"M0 0h24v24H0V0z\" fill=\"none\"/>\n",
              "    <path d=\"M18.56 5.44l.94 2.06.94-2.06 2.06-.94-2.06-.94-.94-2.06-.94 2.06-2.06.94zm-11 1L8.5 8.5l.94-2.06 2.06-.94-2.06-.94L8.5 2.5l-.94 2.06-2.06.94zm10 10l.94 2.06.94-2.06 2.06-.94-2.06-.94-.94-2.06-.94 2.06-2.06.94z\"/><path d=\"M17.41 7.96l-1.37-1.37c-.4-.4-.92-.59-1.43-.59-.52 0-1.04.2-1.43.59L10.3 9.45l-7.72 7.72c-.78.78-.78 2.05 0 2.83L4 21.41c.39.39.9.59 1.41.59.51 0 1.02-.2 1.41-.59l7.78-7.78 2.81-2.81c.8-.78.8-2.07 0-2.86zM5.41 20L4 18.59l7.72-7.72 1.47 1.35L5.41 20z\"/>\n",
              "  </svg>\n",
              "      </button>\n",
              "      \n",
              "  <style>\n",
              "    .colab-df-container {\n",
              "      display:flex;\n",
              "      flex-wrap:wrap;\n",
              "      gap: 12px;\n",
              "    }\n",
              "\n",
              "    .colab-df-convert {\n",
              "      background-color: #E8F0FE;\n",
              "      border: none;\n",
              "      border-radius: 50%;\n",
              "      cursor: pointer;\n",
              "      display: none;\n",
              "      fill: #1967D2;\n",
              "      height: 32px;\n",
              "      padding: 0 0 0 0;\n",
              "      width: 32px;\n",
              "    }\n",
              "\n",
              "    .colab-df-convert:hover {\n",
              "      background-color: #E2EBFA;\n",
              "      box-shadow: 0px 1px 2px rgba(60, 64, 67, 0.3), 0px 1px 3px 1px rgba(60, 64, 67, 0.15);\n",
              "      fill: #174EA6;\n",
              "    }\n",
              "\n",
              "    [theme=dark] .colab-df-convert {\n",
              "      background-color: #3B4455;\n",
              "      fill: #D2E3FC;\n",
              "    }\n",
              "\n",
              "    [theme=dark] .colab-df-convert:hover {\n",
              "      background-color: #434B5C;\n",
              "      box-shadow: 0px 1px 3px 1px rgba(0, 0, 0, 0.15);\n",
              "      filter: drop-shadow(0px 1px 2px rgba(0, 0, 0, 0.3));\n",
              "      fill: #FFFFFF;\n",
              "    }\n",
              "  </style>\n",
              "\n",
              "      <script>\n",
              "        const buttonEl =\n",
              "          document.querySelector('#df-3fc521f0-5b93-4dfb-8d3f-6262698d2bbc button.colab-df-convert');\n",
              "        buttonEl.style.display =\n",
              "          google.colab.kernel.accessAllowed ? 'block' : 'none';\n",
              "\n",
              "        async function convertToInteractive(key) {\n",
              "          const element = document.querySelector('#df-3fc521f0-5b93-4dfb-8d3f-6262698d2bbc');\n",
              "          const dataTable =\n",
              "            await google.colab.kernel.invokeFunction('convertToInteractive',\n",
              "                                                     [key], {});\n",
              "          if (!dataTable) return;\n",
              "\n",
              "          const docLinkHtml = 'Like what you see? Visit the ' +\n",
              "            '<a target=\"_blank\" href=https://colab.research.google.com/notebooks/data_table.ipynb>data table notebook</a>'\n",
              "            + ' to learn more about interactive tables.';\n",
              "          element.innerHTML = '';\n",
              "          dataTable['output_type'] = 'display_data';\n",
              "          await google.colab.output.renderOutput(dataTable, element);\n",
              "          const docLink = document.createElement('div');\n",
              "          docLink.innerHTML = docLinkHtml;\n",
              "          element.appendChild(docLink);\n",
              "        }\n",
              "      </script>\n",
              "    </div>\n",
              "  </div>\n",
              "  "
            ]
          },
          "metadata": {},
          "execution_count": 13
        }
      ]
    },
    {
      "cell_type": "code",
      "metadata": {
        "trusted": true,
        "id": "zH8LwcYsZ68w"
      },
      "source": [
        "labels=list(train_gt_df.columns[1:])"
      ],
      "execution_count": null,
      "outputs": []
    },
    {
      "cell_type": "code",
      "metadata": {
        "trusted": true,
        "id": "fjlkp8jTZ688"
      },
      "source": [
        "test_set_ratio = 0.10\n",
        "val_set_ratio = 0.20\n",
        "\n",
        "test_rows = (np.random.rand(int(test_set_ratio*train_gt_df.shape[0]))*train_gt_df.shape[0]).astype(int)\n",
        "test_df =  train_gt_df.iloc[test_rows]\n",
        "test_df = test_df.reset_index().drop(['index'], axis=1)\n",
        "train_gt_df.drop(test_rows, axis=0, inplace=True)\n",
        "train_gt_df = train_gt_df.reset_index().drop(['index'], axis=1)\n",
        "\n",
        "\n",
        "val_rows = (np.random.rand(int(val_set_ratio*train_gt_df.shape[0]))*train_gt_df.shape[0]).astype(int)\n",
        "val_df = train_gt_df.iloc[val_rows]\n",
        "val_df = val_df.reset_index().drop(['index'], axis=1)\n",
        "train_gt_df.drop(val_rows, axis=0, inplace=True)\n",
        "train_gt_df = train_gt_df.reset_index().drop(['index'], axis=1)"
      ],
      "execution_count": null,
      "outputs": []
    },
    {
      "cell_type": "code",
      "metadata": {
        "trusted": true,
        "id": "GMcHplG-Z69B",
        "colab": {
          "base_uri": "https://localhost:8080/"
        },
        "outputId": "1f65eb27-14d7-4015-8801-5a3ad8da87a3"
      },
      "source": [
        "print('train set size: ', train_gt_df.shape[0])\n",
        "print('test set size: ', test_df.shape[0])\n",
        "print('cross validation set size: ', val_df.shape[0])"
      ],
      "execution_count": null,
      "outputs": [
        {
          "output_type": "stream",
          "name": "stdout",
          "text": [
            "train set size:  18799\n",
            "test set size:  2533\n",
            "cross validation set size:  4587\n"
          ]
        }
      ]
    },
    {
      "cell_type": "code",
      "metadata": {
        "trusted": true,
        "id": "7C_68e_fZ69H"
      },
      "source": [
        "target_size = (224,224)\n",
        "inputs_shape = (224,224,3)\n",
        "num_classes = 8"
      ],
      "execution_count": null,
      "outputs": []
    },
    {
      "cell_type": "code",
      "metadata": {
        "trusted": true,
        "id": "EtMtGEr5Z69M",
        "colab": {
          "base_uri": "https://localhost:8080/"
        },
        "outputId": "6f8a6764-dcb3-4047-ac46-9b4b27215c24"
      },
      "source": [
        "data_gen = ImageDataGenerator(preprocessing_function=preprocess_input, rescale=1/255)\n",
        "\n",
        "train_set_gen = data_gen.flow_from_dataframe(dataframe=train_gt_df, directory=images_path, x_col='image', y_col=list(train_gt_df.columns)[1:], batch_size=64, shuffle=True, class_mode='raw', target_size=target_size)\n",
        "val_set_gen = data_gen.flow_from_dataframe(dataframe=val_df, directory=images_path, x_col='image', y_col=list(val_df.columns)[1:], batch_size=64, shuffle=True, class_mode='raw', target_size=target_size)\n",
        "test_set_gen = data_gen.flow_from_dataframe(dataframe=test_df, directory=images_path, x_col='image', y_col=list(val_df.columns)[1:], batch_size=64, shuffle=False, class_mode='raw', target_size=target_size)"
      ],
      "execution_count": null,
      "outputs": [
        {
          "output_type": "stream",
          "name": "stdout",
          "text": [
            "Found 18799 validated image filenames.\n",
            "Found 4587 validated image filenames.\n",
            "Found 2533 validated image filenames.\n"
          ]
        }
      ]
    },
    {
      "cell_type": "markdown",
      "source": [
        "# **Define loss function and metrics**"
      ],
      "metadata": {
        "id": "SDVesjmNTN2F"
      }
    },
    {
      "cell_type": "code",
      "metadata": {
        "trusted": true,
        "id": "VNmMMsL5Z69e"
      },
      "source": [
        "def recall_m(y_true, y_pred):\n",
        "    true_positives = K.sum(K.round(K.clip(y_true * y_pred, 0, 1)))\n",
        "    possible_positives = K.sum(K.round(K.clip(y_true, 0, 1)))\n",
        "    recall = true_positives / (possible_positives + K.epsilon())\n",
        "    return recall\n",
        " \n",
        "def precision_m(y_true, y_pred):\n",
        "    true_positives = K.sum(K.round(K.clip(y_true * y_pred, 0, 1)))\n",
        "    predicted_positives = K.sum(K.round(K.clip(y_pred, 0, 1)))\n",
        "    precision = true_positives / (predicted_positives + K.epsilon())\n",
        "    return precision\n",
        " \n",
        "def f1_m(y_true, y_pred):\n",
        "    precision = precision_m(y_true, y_pred)\n",
        "    recall = recall_m(y_true, y_pred)\n",
        "    return 2*((precision*recall)/(precision+recall+K.epsilon()))\n",
        " \n",
        "def f1macro(y_true, y_pred):\n",
        "    f_pos = f1_m(y_true, y_pred)\n",
        "    # negative version of the data and prediction\n",
        "    f_neg = f1_m(1-y_true, 1-K.clip(y_pred,0,1))\n",
        "    return (f_pos + f_neg)/2"
      ],
      "execution_count": null,
      "outputs": []
    },
    {
      "cell_type": "markdown",
      "source": [
        "# **Define customize Resnet with sigmoid**"
      ],
      "metadata": {
        "id": "C_KLKtFtS0KV"
      }
    },
    {
      "cell_type": "code",
      "metadata": {
        "trusted": true,
        "id": "RhLmCEgTZ69j"
      },
      "source": [
        "model_resnet50_drop_maxnorm_L2 = Sequential()\n",
        "\n",
        "model_resnet50_drop_maxnorm_L2.add(ResNet50(include_top=False, weights='imagenet', input_shape=inputs_shape))\n",
        "\n",
        "model_resnet50_drop_maxnorm_L2.add(GlobalMaxPooling2D())\n",
        "\n",
        "model_resnet50_drop_maxnorm_L2.add(Dense(512, activation='relu', kernel_regularizer=L2(l2=0.015), kernel_constraint=MaxNorm(2)))\n",
        "model_resnet50_drop_maxnorm_L2.add(Dropout(0.5))\n",
        "\n",
        "model_resnet50_drop_maxnorm_L2.add(BatchNormalization())\n",
        "\n",
        "model_resnet50_drop_maxnorm_L2.add(Dense(1024, activation='relu', kernel_regularizer=L2(l2=0.03), kernel_constraint=MaxNorm(2)))\n",
        "model_resnet50_drop_maxnorm_L2.add(Dropout(0.6))\n",
        "\n",
        "model_resnet50_drop_maxnorm_L2.add(BatchNormalization())\n",
        "\n",
        "model_resnet50_drop_maxnorm_L2.add(Dense(256, activation='relu', kernel_regularizer=L2(l2=0.01), kernel_constraint=MaxNorm(2)))\n",
        "model_resnet50_drop_maxnorm_L2.add(Dropout(0.5))\n",
        "\n",
        "model_resnet50_drop_maxnorm_L2.add(Dense(8, activation='sigmoid'))\n",
        "\n",
        "model_resnet50_drop_maxnorm_L2.compile(optimizer=Adam(learning_rate=0.0001), loss='categorical_crossentropy', metrics=['accuracy', f1macro])"
      ],
      "execution_count": null,
      "outputs": []
    },
    {
      "cell_type": "code",
      "metadata": {
        "trusted": true,
        "id": "Cci9KogQZ69q",
        "colab": {
          "base_uri": "https://localhost:8080/"
        },
        "outputId": "33b68e6f-8970-4b57-cb03-c5393d330b5b"
      },
      "source": [
        "model_resnet50_drop_maxnorm_L2.summary()"
      ],
      "execution_count": null,
      "outputs": [
        {
          "output_type": "stream",
          "name": "stdout",
          "text": [
            "Model: \"sequential_1\"\n",
            "_________________________________________________________________\n",
            " Layer (type)                Output Shape              Param #   \n",
            "=================================================================\n",
            " resnet50 (Functional)       (None, 7, 7, 2048)        23587712  \n",
            "                                                                 \n",
            " global_max_pooling2d_1 (Glo  (None, 2048)             0         \n",
            " balMaxPooling2D)                                                \n",
            "                                                                 \n",
            " dense_4 (Dense)             (None, 512)               1049088   \n",
            "                                                                 \n",
            " dropout_3 (Dropout)         (None, 512)               0         \n",
            "                                                                 \n",
            " batch_normalization_2 (Batc  (None, 512)              2048      \n",
            " hNormalization)                                                 \n",
            "                                                                 \n",
            " dense_5 (Dense)             (None, 1024)              525312    \n",
            "                                                                 \n",
            " dropout_4 (Dropout)         (None, 1024)              0         \n",
            "                                                                 \n",
            " batch_normalization_3 (Batc  (None, 1024)             4096      \n",
            " hNormalization)                                                 \n",
            "                                                                 \n",
            " dense_6 (Dense)             (None, 256)               262400    \n",
            "                                                                 \n",
            " dropout_5 (Dropout)         (None, 256)               0         \n",
            "                                                                 \n",
            " dense_7 (Dense)             (None, 8)                 2056      \n",
            "                                                                 \n",
            "=================================================================\n",
            "Total params: 25,432,712\n",
            "Trainable params: 25,376,520\n",
            "Non-trainable params: 56,192\n",
            "_________________________________________________________________\n"
          ]
        }
      ]
    },
    {
      "cell_type": "code",
      "metadata": {
        "trusted": true,
        "id": "sCUPiVooZ69v"
      },
      "source": [
        "from tensorflow.keras.callbacks import ModelCheckpoint\n",
        "\n",
        "checkpoint_path = \"./cp2d-{epoch}-{val_f1macro:.2f}.h5\"\n",
        "callbacks = [\n",
        "    ModelCheckpoint(checkpoint_path,\n",
        "                    monitor='val_f1macro', mode=\"max\", verbose=0,\n",
        "                    save_best_only=True, save_weights_only=False, save_freq=\"epoch\")\n",
        "]"
      ],
      "execution_count": null,
      "outputs": []
    },
    {
      "cell_type": "code",
      "metadata": {
        "trusted": true,
        "id": "KCp2hQlsZ696",
        "outputId": "ed8d4728-b533-45a3-e3f1-84663e9ed6cd",
        "colab": {
          "base_uri": "https://localhost:8080/"
        }
      },
      "source": [
        "STEP_SIZE_TRAIN=train_set_gen.n//train_set_gen.batch_size\n",
        "STEP_SIZE_VALID=val_set_gen.n//val_set_gen.batch_size\n",
        "STEP_SIZE_TEST=test_set_gen.n//test_set_gen.batch_size\n",
        "\n",
        "\n",
        "result = model_resnet50_drop_maxnorm_L2.fit(train_set_gen, steps_per_epoch=STEP_SIZE_TRAIN, validation_data=val_set_gen, validation_steps=STEP_SIZE_VALID, callbacks=callbacks, epochs=16)\n"
      ],
      "execution_count": null,
      "outputs": [
        {
          "output_type": "stream",
          "name": "stdout",
          "text": [
            "Epoch 1/16\n",
            "293/293 [==============================] - 566s 2s/step - loss: 31.3556 - accuracy: 0.4896 - f1macro: 0.6200 - val_loss: 28.6825 - val_accuracy: 0.1789 - val_f1macro: 0.4057\n",
            "Epoch 2/16\n",
            "293/293 [==============================] - 574s 2s/step - loss: 23.1340 - accuracy: 0.6074 - f1macro: 0.6732 - val_loss: 20.2900 - val_accuracy: 0.5117 - val_f1macro: 0.6050\n",
            "Epoch 3/16\n",
            "293/293 [==============================] - 559s 2s/step - loss: 16.9013 - accuracy: 0.6632 - f1macro: 0.6879 - val_loss: 14.7047 - val_accuracy: 0.5473 - val_f1macro: 0.6544\n",
            "Epoch 4/16\n",
            "293/293 [==============================] - 558s 2s/step - loss: 12.2687 - accuracy: 0.7010 - f1macro: 0.6957 - val_loss: 10.5106 - val_accuracy: 0.6822 - val_f1macro: 0.6757\n",
            "Epoch 5/16\n",
            "293/293 [==============================] - 556s 2s/step - loss: 8.8458 - accuracy: 0.7563 - f1macro: 0.7086 - val_loss: 7.6929 - val_accuracy: 0.6917 - val_f1macro: 0.6703\n",
            "Epoch 6/16\n",
            "293/293 [==============================] - 556s 2s/step - loss: 6.3754 - accuracy: 0.7982 - f1macro: 0.7225 - val_loss: 5.6214 - val_accuracy: 0.7447 - val_f1macro: 0.6815\n",
            "Epoch 7/16\n",
            "293/293 [==============================] - 509s 2s/step - loss: 4.6009 - accuracy: 0.8344 - f1macro: 0.7390 - val_loss: 4.2846 - val_accuracy: 0.7309 - val_f1macro: 0.7221\n",
            "Epoch 8/16\n",
            "293/293 [==============================] - 556s 2s/step - loss: 3.3017 - accuracy: 0.8770 - f1macro: 0.7617 - val_loss: 3.3514 - val_accuracy: 0.7375 - val_f1macro: 0.7353\n",
            "Epoch 9/16\n",
            "293/293 [==============================] - 553s 2s/step - loss: 2.4321 - accuracy: 0.8901 - f1macro: 0.7705 - val_loss: 2.6403 - val_accuracy: 0.7302 - val_f1macro: 0.7304\n",
            "Epoch 10/16\n",
            "293/293 [==============================] - 501s 2s/step - loss: 1.7729 - accuracy: 0.9139 - f1macro: 0.7914 - val_loss: 2.1595 - val_accuracy: 0.7489 - val_f1macro: 0.7561\n",
            "Epoch 11/16\n",
            "293/293 [==============================] - 553s 2s/step - loss: 1.3185 - accuracy: 0.9244 - f1macro: 0.8037 - val_loss: 1.9505 - val_accuracy: 0.7227 - val_f1macro: 0.7545\n",
            "Epoch 12/16\n",
            "293/293 [==============================] - 563s 2s/step - loss: 0.9852 - accuracy: 0.9393 - f1macro: 0.8171 - val_loss: 1.6678 - val_accuracy: 0.7482 - val_f1macro: 0.7789\n",
            "Epoch 13/16\n",
            "293/293 [==============================] - 498s 2s/step - loss: 0.7633 - accuracy: 0.9426 - f1macro: 0.8296 - val_loss: 1.3772 - val_accuracy: 0.7632 - val_f1macro: 0.7777\n",
            "Epoch 14/16\n",
            "293/293 [==============================] - 550s 2s/step - loss: 0.6063 - accuracy: 0.9477 - f1macro: 0.8351 - val_loss: 1.3488 - val_accuracy: 0.7546 - val_f1macro: 0.7858\n",
            "Epoch 15/16\n",
            "293/293 [==============================] - 555s 2s/step - loss: 0.5165 - accuracy: 0.9457 - f1macro: 0.8365 - val_loss: 1.3727 - val_accuracy: 0.7548 - val_f1macro: 0.8000\n",
            "Epoch 16/16\n",
            "293/293 [==============================] - 554s 2s/step - loss: 0.4046 - accuracy: 0.9589 - f1macro: 0.8509 - val_loss: 1.2501 - val_accuracy: 0.7579 - val_f1macro: 0.7930\n"
          ]
        }
      ]
    },
    {
      "cell_type": "markdown",
      "source": [
        "# **Evaluation**"
      ],
      "metadata": {
        "id": "devJbX-mTaUl"
      }
    },
    {
      "cell_type": "code",
      "metadata": {
        "trusted": true,
        "id": "th4gjbPwZ6-E",
        "outputId": "755bba1a-fa3b-48a9-c68c-8357964b1192",
        "colab": {
          "base_uri": "https://localhost:8080/"
        }
      },
      "source": [
        "model_resnet50_drop_maxnorm_L2.metrics_names"
      ],
      "execution_count": null,
      "outputs": [
        {
          "output_type": "execute_result",
          "data": {
            "text/plain": [
              "['loss', 'accuracy', 'f1macro']"
            ]
          },
          "metadata": {},
          "execution_count": 31
        }
      ]
    },
    {
      "cell_type": "code",
      "metadata": {
        "trusted": true,
        "id": "rP2HVvsYZ6-O",
        "outputId": "ecc242ad-7ac9-4d3d-f4b9-113f6abc75b0",
        "colab": {
          "base_uri": "https://localhost:8080/",
          "height": 206
        }
      },
      "source": [
        "losses = pd.DataFrame(model_resnet50_drop_maxnorm_L2.history.history)\n",
        "losses.head()"
      ],
      "execution_count": null,
      "outputs": [
        {
          "output_type": "execute_result",
          "data": {
            "text/plain": [
              "        loss  accuracy   f1macro   val_loss  val_accuracy  val_f1macro\n",
              "0  31.355642  0.489571  0.619992  28.682489      0.178917     0.405733\n",
              "1  23.133972  0.607391  0.673170  20.289976      0.511664     0.604976\n",
              "2  16.901323  0.663173  0.687909  14.704703      0.547315     0.654395\n",
              "3  12.268728  0.700984  0.695711  10.510583      0.682218     0.675748\n",
              "4   8.845849  0.756284  0.708582   7.692906      0.691681     0.670320"
            ],
            "text/html": [
              "\n",
              "  <div id=\"df-ef4f24df-3de6-4640-a4c1-500fce1aa656\">\n",
              "    <div class=\"colab-df-container\">\n",
              "      <div>\n",
              "<style scoped>\n",
              "    .dataframe tbody tr th:only-of-type {\n",
              "        vertical-align: middle;\n",
              "    }\n",
              "\n",
              "    .dataframe tbody tr th {\n",
              "        vertical-align: top;\n",
              "    }\n",
              "\n",
              "    .dataframe thead th {\n",
              "        text-align: right;\n",
              "    }\n",
              "</style>\n",
              "<table border=\"1\" class=\"dataframe\">\n",
              "  <thead>\n",
              "    <tr style=\"text-align: right;\">\n",
              "      <th></th>\n",
              "      <th>loss</th>\n",
              "      <th>accuracy</th>\n",
              "      <th>f1macro</th>\n",
              "      <th>val_loss</th>\n",
              "      <th>val_accuracy</th>\n",
              "      <th>val_f1macro</th>\n",
              "    </tr>\n",
              "  </thead>\n",
              "  <tbody>\n",
              "    <tr>\n",
              "      <th>0</th>\n",
              "      <td>31.355642</td>\n",
              "      <td>0.489571</td>\n",
              "      <td>0.619992</td>\n",
              "      <td>28.682489</td>\n",
              "      <td>0.178917</td>\n",
              "      <td>0.405733</td>\n",
              "    </tr>\n",
              "    <tr>\n",
              "      <th>1</th>\n",
              "      <td>23.133972</td>\n",
              "      <td>0.607391</td>\n",
              "      <td>0.673170</td>\n",
              "      <td>20.289976</td>\n",
              "      <td>0.511664</td>\n",
              "      <td>0.604976</td>\n",
              "    </tr>\n",
              "    <tr>\n",
              "      <th>2</th>\n",
              "      <td>16.901323</td>\n",
              "      <td>0.663173</td>\n",
              "      <td>0.687909</td>\n",
              "      <td>14.704703</td>\n",
              "      <td>0.547315</td>\n",
              "      <td>0.654395</td>\n",
              "    </tr>\n",
              "    <tr>\n",
              "      <th>3</th>\n",
              "      <td>12.268728</td>\n",
              "      <td>0.700984</td>\n",
              "      <td>0.695711</td>\n",
              "      <td>10.510583</td>\n",
              "      <td>0.682218</td>\n",
              "      <td>0.675748</td>\n",
              "    </tr>\n",
              "    <tr>\n",
              "      <th>4</th>\n",
              "      <td>8.845849</td>\n",
              "      <td>0.756284</td>\n",
              "      <td>0.708582</td>\n",
              "      <td>7.692906</td>\n",
              "      <td>0.691681</td>\n",
              "      <td>0.670320</td>\n",
              "    </tr>\n",
              "  </tbody>\n",
              "</table>\n",
              "</div>\n",
              "      <button class=\"colab-df-convert\" onclick=\"convertToInteractive('df-ef4f24df-3de6-4640-a4c1-500fce1aa656')\"\n",
              "              title=\"Convert this dataframe to an interactive table.\"\n",
              "              style=\"display:none;\">\n",
              "        \n",
              "  <svg xmlns=\"http://www.w3.org/2000/svg\" height=\"24px\"viewBox=\"0 0 24 24\"\n",
              "       width=\"24px\">\n",
              "    <path d=\"M0 0h24v24H0V0z\" fill=\"none\"/>\n",
              "    <path d=\"M18.56 5.44l.94 2.06.94-2.06 2.06-.94-2.06-.94-.94-2.06-.94 2.06-2.06.94zm-11 1L8.5 8.5l.94-2.06 2.06-.94-2.06-.94L8.5 2.5l-.94 2.06-2.06.94zm10 10l.94 2.06.94-2.06 2.06-.94-2.06-.94-.94-2.06-.94 2.06-2.06.94z\"/><path d=\"M17.41 7.96l-1.37-1.37c-.4-.4-.92-.59-1.43-.59-.52 0-1.04.2-1.43.59L10.3 9.45l-7.72 7.72c-.78.78-.78 2.05 0 2.83L4 21.41c.39.39.9.59 1.41.59.51 0 1.02-.2 1.41-.59l7.78-7.78 2.81-2.81c.8-.78.8-2.07 0-2.86zM5.41 20L4 18.59l7.72-7.72 1.47 1.35L5.41 20z\"/>\n",
              "  </svg>\n",
              "      </button>\n",
              "      \n",
              "  <style>\n",
              "    .colab-df-container {\n",
              "      display:flex;\n",
              "      flex-wrap:wrap;\n",
              "      gap: 12px;\n",
              "    }\n",
              "\n",
              "    .colab-df-convert {\n",
              "      background-color: #E8F0FE;\n",
              "      border: none;\n",
              "      border-radius: 50%;\n",
              "      cursor: pointer;\n",
              "      display: none;\n",
              "      fill: #1967D2;\n",
              "      height: 32px;\n",
              "      padding: 0 0 0 0;\n",
              "      width: 32px;\n",
              "    }\n",
              "\n",
              "    .colab-df-convert:hover {\n",
              "      background-color: #E2EBFA;\n",
              "      box-shadow: 0px 1px 2px rgba(60, 64, 67, 0.3), 0px 1px 3px 1px rgba(60, 64, 67, 0.15);\n",
              "      fill: #174EA6;\n",
              "    }\n",
              "\n",
              "    [theme=dark] .colab-df-convert {\n",
              "      background-color: #3B4455;\n",
              "      fill: #D2E3FC;\n",
              "    }\n",
              "\n",
              "    [theme=dark] .colab-df-convert:hover {\n",
              "      background-color: #434B5C;\n",
              "      box-shadow: 0px 1px 3px 1px rgba(0, 0, 0, 0.15);\n",
              "      filter: drop-shadow(0px 1px 2px rgba(0, 0, 0, 0.3));\n",
              "      fill: #FFFFFF;\n",
              "    }\n",
              "  </style>\n",
              "\n",
              "      <script>\n",
              "        const buttonEl =\n",
              "          document.querySelector('#df-ef4f24df-3de6-4640-a4c1-500fce1aa656 button.colab-df-convert');\n",
              "        buttonEl.style.display =\n",
              "          google.colab.kernel.accessAllowed ? 'block' : 'none';\n",
              "\n",
              "        async function convertToInteractive(key) {\n",
              "          const element = document.querySelector('#df-ef4f24df-3de6-4640-a4c1-500fce1aa656');\n",
              "          const dataTable =\n",
              "            await google.colab.kernel.invokeFunction('convertToInteractive',\n",
              "                                                     [key], {});\n",
              "          if (!dataTable) return;\n",
              "\n",
              "          const docLinkHtml = 'Like what you see? Visit the ' +\n",
              "            '<a target=\"_blank\" href=https://colab.research.google.com/notebooks/data_table.ipynb>data table notebook</a>'\n",
              "            + ' to learn more about interactive tables.';\n",
              "          element.innerHTML = '';\n",
              "          dataTable['output_type'] = 'display_data';\n",
              "          await google.colab.output.renderOutput(dataTable, element);\n",
              "          const docLink = document.createElement('div');\n",
              "          docLink.innerHTML = docLinkHtml;\n",
              "          element.appendChild(docLink);\n",
              "        }\n",
              "      </script>\n",
              "    </div>\n",
              "  </div>\n",
              "  "
            ]
          },
          "metadata": {},
          "execution_count": 32
        }
      ]
    },
    {
      "cell_type": "code",
      "metadata": {
        "trusted": true,
        "id": "TU2jS1meZ6-T",
        "outputId": "b688867a-6708-4092-f60b-550a17e9da22",
        "colab": {
          "base_uri": "https://localhost:8080/",
          "height": 282
        }
      },
      "source": [
        "losses[['loss','val_loss']].plot()"
      ],
      "execution_count": null,
      "outputs": [
        {
          "output_type": "execute_result",
          "data": {
            "text/plain": [
              "<matplotlib.axes._subplots.AxesSubplot at 0x7f9cae164710>"
            ]
          },
          "metadata": {},
          "execution_count": 33
        },
        {
          "output_type": "display_data",
          "data": {
            "text/plain": [
              "<Figure size 432x288 with 1 Axes>"
            ],
            "image/png": "[encoded data removed]"
          },
          "metadata": {
            "needs_background": "light"
          }
        }
      ]
    },
    {
      "cell_type": "code",
      "metadata": {
        "trusted": true,
        "id": "v9j0OZ8bZ6-Z",
        "outputId": "585915db-1f12-4aa3-d787-718a7ae64a71",
        "colab": {
          "base_uri": "https://localhost:8080/",
          "height": 282
        }
      },
      "source": [
        "losses[['accuracy','val_accuracy']].plot()"
      ],
      "execution_count": null,
      "outputs": [
        {
          "output_type": "execute_result",
          "data": {
            "text/plain": [
              "<matplotlib.axes._subplots.AxesSubplot at 0x7f9c87a36990>"
            ]
          },
          "metadata": {},
          "execution_count": 34
        },
        {
          "output_type": "display_data",
          "data": {
            "text/plain": [
              "<Figure size 432x288 with 1 Axes>"
            ],
            "image/png": "[encoded data removed]"
          },
          "metadata": {
            "needs_background": "light"
          }
        }
      ]
    },
    {
      "cell_type": "code",
      "source": [
        "losses[['f1macro','val_f1macro']].plot()"
      ],
      "metadata": {
        "colab": {
          "base_uri": "https://localhost:8080/",
          "height": 282
        },
        "id": "NmyiwYPc5VyN",
        "outputId": "6ad05505-d2ff-4142-be34-36446b27b34f"
      },
      "execution_count": null,
      "outputs": [
        {
          "output_type": "execute_result",
          "data": {
            "text/plain": [
              "<matplotlib.axes._subplots.AxesSubplot at 0x7f9c87a733d0>"
            ]
          },
          "metadata": {},
          "execution_count": 35
        },
        {
          "output_type": "display_data",
          "data": {
            "text/plain": [
              "<Figure size 432x288 with 1 Axes>"
            ],
            "image/png": "[encoded data removed]"
          },
          "metadata": {
            "needs_background": "light"
          }
        }
      ]
    },
    {
      "cell_type": "code",
      "metadata": {
        "trusted": true,
        "id": "OWVyTwr2Z6-g",
        "outputId": "a98bb8bb-2a82-40d8-b1d7-60d0dc818f0c",
        "colab": {
          "base_uri": "https://localhost:8080/"
        }
      },
      "source": [
        "model_resnet50_drop_maxnorm_L2.evaluate_generator(test_set_gen)"
      ],
      "execution_count": null,
      "outputs": [
        {
          "output_type": "stream",
          "name": "stderr",
          "text": [
            "/usr/local/lib/python3.7/dist-packages/ipykernel_launcher.py:1: UserWarning: `Model.evaluate_generator` is deprecated and will be removed in a future version. Please use `Model.evaluate`, which supports generators.\n",
            "  \"\"\"Entry point for launching an IPython kernel.\n"
          ]
        },
        {
          "output_type": "execute_result",
          "data": {
            "text/plain": [
              "[1.2385190725326538, 0.7651006579399109, 0.792849063873291]"
            ]
          },
          "metadata": {},
          "execution_count": 36
        }
      ]
    },
    {
      "cell_type": "markdown",
      "source": [
        "# **Define customize Resnet with softmax**"
      ],
      "metadata": {
        "id": "bqRbTBuo580O"
      }
    },
    {
      "cell_type": "code",
      "metadata": {
        "trusted": true,
        "id": "z388G5GP6whN",
        "colab": {
          "base_uri": "https://localhost:8080/"
        },
        "outputId": "11deb148-038f-49f8-82bb-5dad1d4de5f2"
      },
      "source": [
        "model_resnet50_drop_L2_softmax = Sequential()\n",
        "\n",
        "model_resnet50_drop_L2_softmax.add(ResNet50(include_top=False, weights='imagenet', input_shape=inputs_shape))\n",
        "\n",
        "model_resnet50_drop_L2_softmax.add(GlobalMaxPooling2D())\n",
        "\n",
        "model_resnet50_drop_L2_softmax.add(Dense(512, activation='relu', kernel_regularizer=L2(l2=0.015), kernel_constraint=MaxNorm(2)))\n",
        "model_resnet50_drop_L2_softmax.add(Dropout(0.5))\n",
        "\n",
        "model_resnet50_drop_L2_softmax.add(BatchNormalization())\n",
        "\n",
        "model_resnet50_drop_L2_softmax.add(Dense(1024, activation='relu', kernel_regularizer=L2(l2=0.03), kernel_constraint=MaxNorm(2)))\n",
        "model_resnet50_drop_L2_softmax.add(Dropout(0.6))\n",
        "\n",
        "model_resnet50_drop_L2_softmax.add(BatchNormalization())\n",
        "\n",
        "model_resnet50_drop_L2_softmax.add(Dense(256, activation='relu', kernel_regularizer=L2(l2=0.01), kernel_constraint=MaxNorm(2)))\n",
        "model_resnet50_drop_L2_softmax.add(Dropout(0.5))\n",
        "\n",
        "model_resnet50_drop_L2_softmax.add(Dense(8, activation='softmax'))\n",
        "\n",
        "opt = Adam(learning_rate=0.0001)\n",
        "model_resnet50_drop_L2_softmax.compile(loss='categorical_crossentropy', optimizer=opt, metrics=['accuracy', f1macro])"
      ],
      "execution_count": null,
      "outputs": [
        {
          "output_type": "stream",
          "name": "stdout",
          "text": [
            "Downloading data from https://storage.googleapis.com/tensorflow/keras-applications/resnet/resnet50_weights_tf_dim_ordering_tf_kernels_notop.h5\n",
            "94773248/94765736 [==============================] - 0s 0us/step\n",
            "94781440/94765736 [==============================] - 0s 0us/step\n"
          ]
        }
      ]
    },
    {
      "cell_type": "code",
      "metadata": {
        "trusted": true,
        "colab": {
          "base_uri": "https://localhost:8080/"
        },
        "outputId": "0aa15d36-2748-42fd-96b2-5d2bbd0e88f2",
        "id": "JzKLwo996whO"
      },
      "source": [
        "model_resnet50_drop_L2_softmax.summary()"
      ],
      "execution_count": null,
      "outputs": [
        {
          "output_type": "stream",
          "name": "stdout",
          "text": [
            "Model: \"sequential\"\n",
            "_________________________________________________________________\n",
            " Layer (type)                Output Shape              Param #   \n",
            "=================================================================\n",
            " resnet50 (Functional)       (None, 7, 7, 2048)        23587712  \n",
            "                                                                 \n",
            " global_max_pooling2d (Globa  (None, 2048)             0         \n",
            " lMaxPooling2D)                                                  \n",
            "                                                                 \n",
            " dense (Dense)               (None, 512)               1049088   \n",
            "                                                                 \n",
            " dropout (Dropout)           (None, 512)               0         \n",
            "                                                                 \n",
            " batch_normalization (BatchN  (None, 512)              2048      \n",
            " ormalization)                                                   \n",
            "                                                                 \n",
            " dense_1 (Dense)             (None, 1024)              525312    \n",
            "                                                                 \n",
            " dropout_1 (Dropout)         (None, 1024)              0         \n",
            "                                                                 \n",
            " batch_normalization_1 (Batc  (None, 1024)             4096      \n",
            " hNormalization)                                                 \n",
            "                                                                 \n",
            " dense_2 (Dense)             (None, 256)               262400    \n",
            "                                                                 \n",
            " dropout_2 (Dropout)         (None, 256)               0         \n",
            "                                                                 \n",
            " dense_3 (Dense)             (None, 8)                 2056      \n",
            "                                                                 \n",
            "=================================================================\n",
            "Total params: 25,432,712\n",
            "Trainable params: 25,376,520\n",
            "Non-trainable params: 56,192\n",
            "_________________________________________________________________\n"
          ]
        }
      ]
    },
    {
      "cell_type": "code",
      "metadata": {
        "trusted": true,
        "id": "erkqhwes6whO"
      },
      "source": [
        "checkpoint_path = \"./cp2d-{epoch}-{val_f1macro:.2f}.h5\"\n",
        "callbacks = [\n",
        "    ModelCheckpoint(checkpoint_path,\n",
        "                    monitor='val_f1macro', mode=\"max\", verbose=0,\n",
        "                    save_best_only=True, save_weights_only=False, save_freq=\"epoch\")\n",
        "]"
      ],
      "execution_count": null,
      "outputs": []
    },
    {
      "cell_type": "code",
      "metadata": {
        "trusted": true,
        "outputId": "c08c7a26-4dd5-446b-b111-9a5d680ceb21",
        "colab": {
          "base_uri": "https://localhost:8080/"
        },
        "id": "jMRvR1kZ6whO"
      },
      "source": [
        "STEP_SIZE_TRAIN=train_set_gen.n//train_set_gen.batch_size\n",
        "STEP_SIZE_VALID=val_set_gen.n//val_set_gen.batch_size\n",
        "STEP_SIZE_TEST=test_set_gen.n//test_set_gen.batch_size\n",
        "\n",
        "\n",
        "result = model_resnet50_drop_L2_softmax.fit(train_set_gen, steps_per_epoch=STEP_SIZE_TRAIN, validation_data=val_set_gen, validation_steps=STEP_SIZE_VALID, callbacks=callbacks, epochs=16)\n"
      ],
      "execution_count": null,
      "outputs": [
        {
          "output_type": "stream",
          "name": "stdout",
          "text": [
            "Epoch 1/16\n",
            "293/293 [==============================] - 517s 2s/step - loss: 33.4968 - accuracy: 0.4249 - f1macro: 0.6606 - val_loss: 28.4558 - val_accuracy: 0.5176 - val_f1macro: 0.5255\n",
            "Epoch 2/16\n",
            "293/293 [==============================] - 541s 2s/step - loss: 24.2352 - accuracy: 0.6023 - f1macro: 0.7717 - val_loss: 20.9526 - val_accuracy: 0.5172 - val_f1macro: 0.5223\n",
            "Epoch 3/16\n",
            "293/293 [==============================] - 481s 2s/step - loss: 17.5143 - accuracy: 0.6560 - f1macro: 0.8002 - val_loss: 15.1756 - val_accuracy: 0.5548 - val_f1macro: 0.7237\n",
            "Epoch 4/16\n",
            "293/293 [==============================] - 479s 2s/step - loss: 12.5960 - accuracy: 0.7048 - f1macro: 0.8297 - val_loss: 10.7987 - val_accuracy: 0.6593 - val_f1macro: 0.7928\n",
            "Epoch 5/16\n",
            "293/293 [==============================] - 483s 2s/step - loss: 9.0550 - accuracy: 0.7530 - f1macro: 0.8570 - val_loss: 7.7913 - val_accuracy: 0.7205 - val_f1macro: 0.8206\n",
            "Epoch 6/16\n",
            "293/293 [==============================] - 476s 2s/step - loss: 6.4900 - accuracy: 0.8080 - f1macro: 0.8912 - val_loss: 5.7497 - val_accuracy: 0.7309 - val_f1macro: 0.8401\n",
            "Epoch 7/16\n",
            "293/293 [==============================] - 479s 2s/step - loss: 4.6489 - accuracy: 0.8524 - f1macro: 0.9179 - val_loss: 4.3318 - val_accuracy: 0.7423 - val_f1macro: 0.8513\n",
            "Epoch 8/16\n",
            "293/293 [==============================] - 491s 2s/step - loss: 3.3569 - accuracy: 0.8813 - f1macro: 0.9327 - val_loss: 3.2961 - val_accuracy: 0.7489 - val_f1macro: 0.8555\n",
            "Epoch 9/16\n",
            "293/293 [==============================] - 482s 2s/step - loss: 2.4353 - accuracy: 0.9053 - f1macro: 0.9460 - val_loss: 2.6461 - val_accuracy: 0.7603 - val_f1macro: 0.8641\n",
            "Epoch 10/16\n",
            "293/293 [==============================] - 532s 2s/step - loss: 1.7913 - accuracy: 0.9185 - f1macro: 0.9524 - val_loss: 2.1695 - val_accuracy: 0.7392 - val_f1macro: 0.8527\n",
            "Epoch 11/16\n",
            "293/293 [==============================] - 475s 2s/step - loss: 1.3154 - accuracy: 0.9369 - f1macro: 0.9631 - val_loss: 1.8473 - val_accuracy: 0.7623 - val_f1macro: 0.8641\n",
            "Epoch 12/16\n",
            "293/293 [==============================] - 472s 2s/step - loss: 0.9870 - accuracy: 0.9463 - f1macro: 0.9692 - val_loss: 1.7150 - val_accuracy: 0.7460 - val_f1macro: 0.8570\n",
            "Epoch 13/16\n",
            "293/293 [==============================] - 474s 2s/step - loss: 0.7827 - accuracy: 0.9438 - f1macro: 0.9672 - val_loss: 1.4469 - val_accuracy: 0.7513 - val_f1macro: 0.8593\n",
            "Epoch 14/16\n",
            "293/293 [==============================] - 534s 2s/step - loss: 0.5942 - accuracy: 0.9564 - f1macro: 0.9749 - val_loss: 1.3011 - val_accuracy: 0.7694 - val_f1macro: 0.8711\n",
            "Epoch 15/16\n",
            "293/293 [==============================] - 509s 2s/step - loss: 0.4871 - accuracy: 0.9582 - f1macro: 0.9758 - val_loss: 1.2129 - val_accuracy: 0.7586 - val_f1macro: 0.8637\n",
            "Epoch 16/16\n",
            "293/293 [==============================] - 480s 2s/step - loss: 0.4089 - accuracy: 0.9593 - f1macro: 0.9764 - val_loss: 1.2319 - val_accuracy: 0.7643 - val_f1macro: 0.8677\n"
          ]
        }
      ]
    },
    {
      "cell_type": "markdown",
      "source": [
        "# **Evaluation**"
      ],
      "metadata": {
        "id": "XliDkmtu91ED"
      }
    },
    {
      "cell_type": "code",
      "metadata": {
        "trusted": true,
        "id": "T0lcmjRh91ED",
        "colab": {
          "base_uri": "https://localhost:8080/"
        },
        "outputId": "32467a89-081f-4f09-acbf-cf892ab01337"
      },
      "source": [
        "model_resnet50_drop_L2_softmax.metrics_names"
      ],
      "execution_count": null,
      "outputs": [
        {
          "output_type": "execute_result",
          "data": {
            "text/plain": [
              "['loss', 'accuracy', 'f1macro']"
            ]
          },
          "metadata": {},
          "execution_count": 24
        }
      ]
    },
    {
      "cell_type": "code",
      "metadata": {
        "trusted": true,
        "id": "5UofQW6m91ED",
        "colab": {
          "base_uri": "https://localhost:8080/",
          "height": 206
        },
        "outputId": "c1068b24-e7c5-4d4f-f77c-3475095361f1"
      },
      "source": [
        "losses = pd.DataFrame(model_resnet50_drop_L2_softmax.history.history)\n",
        "losses.head()"
      ],
      "execution_count": null,
      "outputs": [
        {
          "output_type": "execute_result",
          "data": {
            "text/plain": [
              "        loss  accuracy   f1macro   val_loss  val_accuracy  val_f1macro\n",
              "0  33.496796  0.424873  0.660588  28.455816      0.517606     0.525539\n",
              "1  24.235218  0.602295  0.771701  20.952618      0.517165     0.522310\n",
              "2  17.514282  0.655991  0.800204  15.175593      0.554798     0.723731\n",
              "3  12.596029  0.704777  0.829664  10.798728      0.659331     0.792769\n",
              "4   9.054955  0.753029  0.856970   7.791296      0.720511     0.820589"
            ],
            "text/html": [
              "\n",
              "  <div id=\"df-f57f1c74-9ec1-45f9-8429-ca72924c15a8\">\n",
              "    <div class=\"colab-df-container\">\n",
              "      <div>\n",
              "<style scoped>\n",
              "    .dataframe tbody tr th:only-of-type {\n",
              "        vertical-align: middle;\n",
              "    }\n",
              "\n",
              "    .dataframe tbody tr th {\n",
              "        vertical-align: top;\n",
              "    }\n",
              "\n",
              "    .dataframe thead th {\n",
              "        text-align: right;\n",
              "    }\n",
              "</style>\n",
              "<table border=\"1\" class=\"dataframe\">\n",
              "  <thead>\n",
              "    <tr style=\"text-align: right;\">\n",
              "      <th></th>\n",
              "      <th>loss</th>\n",
              "      <th>accuracy</th>\n",
              "      <th>f1macro</th>\n",
              "      <th>val_loss</th>\n",
              "      <th>val_accuracy</th>\n",
              "      <th>val_f1macro</th>\n",
              "    </tr>\n",
              "  </thead>\n",
              "  <tbody>\n",
              "    <tr>\n",
              "      <th>0</th>\n",
              "      <td>33.496796</td>\n",
              "      <td>0.424873</td>\n",
              "      <td>0.660588</td>\n",
              "      <td>28.455816</td>\n",
              "      <td>0.517606</td>\n",
              "      <td>0.525539</td>\n",
              "    </tr>\n",
              "    <tr>\n",
              "      <th>1</th>\n",
              "      <td>24.235218</td>\n",
              "      <td>0.602295</td>\n",
              "      <td>0.771701</td>\n",
              "      <td>20.952618</td>\n",
              "      <td>0.517165</td>\n",
              "      <td>0.522310</td>\n",
              "    </tr>\n",
              "    <tr>\n",
              "      <th>2</th>\n",
              "      <td>17.514282</td>\n",
              "      <td>0.655991</td>\n",
              "      <td>0.800204</td>\n",
              "      <td>15.175593</td>\n",
              "      <td>0.554798</td>\n",
              "      <td>0.723731</td>\n",
              "    </tr>\n",
              "    <tr>\n",
              "      <th>3</th>\n",
              "      <td>12.596029</td>\n",
              "      <td>0.704777</td>\n",
              "      <td>0.829664</td>\n",
              "      <td>10.798728</td>\n",
              "      <td>0.659331</td>\n",
              "      <td>0.792769</td>\n",
              "    </tr>\n",
              "    <tr>\n",
              "      <th>4</th>\n",
              "      <td>9.054955</td>\n",
              "      <td>0.753029</td>\n",
              "      <td>0.856970</td>\n",
              "      <td>7.791296</td>\n",
              "      <td>0.720511</td>\n",
              "      <td>0.820589</td>\n",
              "    </tr>\n",
              "  </tbody>\n",
              "</table>\n",
              "</div>\n",
              "      <button class=\"colab-df-convert\" onclick=\"convertToInteractive('df-f57f1c74-9ec1-45f9-8429-ca72924c15a8')\"\n",
              "              title=\"Convert this dataframe to an interactive table.\"\n",
              "              style=\"display:none;\">\n",
              "        \n",
              "  <svg xmlns=\"http://www.w3.org/2000/svg\" height=\"24px\"viewBox=\"0 0 24 24\"\n",
              "       width=\"24px\">\n",
              "    <path d=\"M0 0h24v24H0V0z\" fill=\"none\"/>\n",
              "    <path d=\"M18.56 5.44l.94 2.06.94-2.06 2.06-.94-2.06-.94-.94-2.06-.94 2.06-2.06.94zm-11 1L8.5 8.5l.94-2.06 2.06-.94-2.06-.94L8.5 2.5l-.94 2.06-2.06.94zm10 10l.94 2.06.94-2.06 2.06-.94-2.06-.94-.94-2.06-.94 2.06-2.06.94z\"/><path d=\"M17.41 7.96l-1.37-1.37c-.4-.4-.92-.59-1.43-.59-.52 0-1.04.2-1.43.59L10.3 9.45l-7.72 7.72c-.78.78-.78 2.05 0 2.83L4 21.41c.39.39.9.59 1.41.59.51 0 1.02-.2 1.41-.59l7.78-7.78 2.81-2.81c.8-.78.8-2.07 0-2.86zM5.41 20L4 18.59l7.72-7.72 1.47 1.35L5.41 20z\"/>\n",
              "  </svg>\n",
              "      </button>\n",
              "      \n",
              "  <style>\n",
              "    .colab-df-container {\n",
              "      display:flex;\n",
              "      flex-wrap:wrap;\n",
              "      gap: 12px;\n",
              "    }\n",
              "\n",
              "    .colab-df-convert {\n",
              "      background-color: #E8F0FE;\n",
              "      border: none;\n",
              "      border-radius: 50%;\n",
              "      cursor: pointer;\n",
              "      display: none;\n",
              "      fill: #1967D2;\n",
              "      height: 32px;\n",
              "      padding: 0 0 0 0;\n",
              "      width: 32px;\n",
              "    }\n",
              "\n",
              "    .colab-df-convert:hover {\n",
              "      background-color: #E2EBFA;\n",
              "      box-shadow: 0px 1px 2px rgba(60, 64, 67, 0.3), 0px 1px 3px 1px rgba(60, 64, 67, 0.15);\n",
              "      fill: #174EA6;\n",
              "    }\n",
              "\n",
              "    [theme=dark] .colab-df-convert {\n",
              "      background-color: #3B4455;\n",
              "      fill: #D2E3FC;\n",
              "    }\n",
              "\n",
              "    [theme=dark] .colab-df-convert:hover {\n",
              "      background-color: #434B5C;\n",
              "      box-shadow: 0px 1px 3px 1px rgba(0, 0, 0, 0.15);\n",
              "      filter: drop-shadow(0px 1px 2px rgba(0, 0, 0, 0.3));\n",
              "      fill: #FFFFFF;\n",
              "    }\n",
              "  </style>\n",
              "\n",
              "      <script>\n",
              "        const buttonEl =\n",
              "          document.querySelector('#df-f57f1c74-9ec1-45f9-8429-ca72924c15a8 button.colab-df-convert');\n",
              "        buttonEl.style.display =\n",
              "          google.colab.kernel.accessAllowed ? 'block' : 'none';\n",
              "\n",
              "        async function convertToInteractive(key) {\n",
              "          const element = document.querySelector('#df-f57f1c74-9ec1-45f9-8429-ca72924c15a8');\n",
              "          const dataTable =\n",
              "            await google.colab.kernel.invokeFunction('convertToInteractive',\n",
              "                                                     [key], {});\n",
              "          if (!dataTable) return;\n",
              "\n",
              "          const docLinkHtml = 'Like what you see? Visit the ' +\n",
              "            '<a target=\"_blank\" href=https://colab.research.google.com/notebooks/data_table.ipynb>data table notebook</a>'\n",
              "            + ' to learn more about interactive tables.';\n",
              "          element.innerHTML = '';\n",
              "          dataTable['output_type'] = 'display_data';\n",
              "          await google.colab.output.renderOutput(dataTable, element);\n",
              "          const docLink = document.createElement('div');\n",
              "          docLink.innerHTML = docLinkHtml;\n",
              "          element.appendChild(docLink);\n",
              "        }\n",
              "      </script>\n",
              "    </div>\n",
              "  </div>\n",
              "  "
            ]
          },
          "metadata": {},
          "execution_count": 25
        }
      ]
    },
    {
      "cell_type": "code",
      "metadata": {
        "trusted": true,
        "id": "qzD6QnHp91ED",
        "colab": {
          "base_uri": "https://localhost:8080/",
          "height": 285
        },
        "outputId": "abadba9b-44bb-40ee-e4c9-f8eabf810a6c"
      },
      "source": [
        "losses[['loss','val_loss']].plot()"
      ],
      "execution_count": null,
      "outputs": [
        {
          "output_type": "execute_result",
          "data": {
            "text/plain": [
              "<matplotlib.axes._subplots.AxesSubplot at 0x7f9b7e6db150>"
            ]
          },
          "metadata": {},
          "execution_count": 26
        },
        {
          "output_type": "display_data",
          "data": {
            "text/plain": [
              "<Figure size 432x288 with 1 Axes>"
            ],
            "image/png": "[encoded data removed]"
          },
          "metadata": {
            "needs_background": "light"
          }
        }
      ]
    },
    {
      "cell_type": "code",
      "metadata": {
        "trusted": true,
        "id": "xs3adj8B91ED",
        "colab": {
          "base_uri": "https://localhost:8080/",
          "height": 282
        },
        "outputId": "e151d29e-465a-4535-fd79-7d695884f5ae"
      },
      "source": [
        "losses[['accuracy','val_accuracy']].plot()"
      ],
      "execution_count": null,
      "outputs": [
        {
          "output_type": "execute_result",
          "data": {
            "text/plain": [
              "<matplotlib.axes._subplots.AxesSubplot at 0x7f9b7e66ca90>"
            ]
          },
          "metadata": {},
          "execution_count": 27
        },
        {
          "output_type": "display_data",
          "data": {
            "text/plain": [
              "<Figure size 432x288 with 1 Axes>"
            ],
            "image/png": "[encoded data removed]"
          },
          "metadata": {
            "needs_background": "light"
          }
        }
      ]
    },
    {
      "cell_type": "code",
      "source": [
        "losses[['f1macro','val_f1macro']].plot()"
      ],
      "metadata": {
        "id": "jB93U41E91EE",
        "colab": {
          "base_uri": "https://localhost:8080/",
          "height": 282
        },
        "outputId": "56150b9b-0b77-497c-f97a-1bb104301782"
      },
      "execution_count": null,
      "outputs": [
        {
          "output_type": "execute_result",
          "data": {
            "text/plain": [
              "<matplotlib.axes._subplots.AxesSubplot at 0x7f9b7e66cb50>"
            ]
          },
          "metadata": {},
          "execution_count": 28
        },
        {
          "output_type": "display_data",
          "data": {
            "text/plain": [
              "<Figure size 432x288 with 1 Axes>"
            ],
            "image/png": "[encoded data removed]"
          },
          "metadata": {
            "needs_background": "light"
          }
        }
      ]
    },
    {
      "cell_type": "code",
      "metadata": {
        "trusted": true,
        "id": "Wnfeqfd291EE",
        "colab": {
          "base_uri": "https://localhost:8080/"
        },
        "outputId": "87005bb7-0656-4bc5-eda2-2cc2ce9da1c2"
      },
      "source": [
        "model_resnet50_drop_L2_softmax.evaluate_generator(test_set_gen)"
      ],
      "execution_count": null,
      "outputs": [
        {
          "output_type": "stream",
          "name": "stderr",
          "text": [
            "/usr/local/lib/python3.7/dist-packages/ipykernel_launcher.py:1: UserWarning: `Model.evaluate_generator` is deprecated and will be removed in a future version. Please use `Model.evaluate`, which supports generators.\n",
            "  \"\"\"Entry point for launching an IPython kernel.\n"
          ]
        },
        {
          "output_type": "execute_result",
          "data": {
            "text/plain": [
              "[1.2435121536254883, 0.7556257247924805, 0.8599104881286621]"
            ]
          },
          "metadata": {},
          "execution_count": 29
        }
      ]
    }
  ]
}